{
 "cells": [
  {
   "cell_type": "markdown",
   "metadata": {},
   "source": [
    "# YOLO (You Only Look Once)"
   ]
  },
  {
   "cell_type": "raw",
   "metadata": {},
   "source": [
    "YOLO CAN VIEW AN IMAGE AND DRWAW BOUNDING BOXES OVER WHAT IT PERCEIVES AS IDENTIFIED CLASSES."
   ]
  },
  {
   "cell_type": "code",
   "execution_count": 2,
   "metadata": {},
   "outputs": [
    {
     "data": {
      "text/html": [
       "<img src=\"data/YOLO.jpg\" width=\"700\" height=\"800\"/>"
      ],
      "text/plain": [
       "<IPython.core.display.Image object>"
      ]
     },
     "execution_count": 2,
     "metadata": {},
     "output_type": "execute_result"
    }
   ],
   "source": [
    "from IPython.display import Image\n",
    "from IPython.core.display import HTML \n",
    "\n",
    "Image(url= \"data/YOLO.jpg\",width=700, height=800)"
   ]
  },
  {
   "cell_type": "raw",
   "metadata": {},
   "source": [
    "WE CAN DRAW A BOUNDING BOXES AROUND A VARIETY OF CLASSES \n",
    "WHAT MAKES YOLO DIFFERENT FROM OTHER ALGORITHMS:\n",
    "\n",
    "EXISTING ALGORITHMS APPLY THE DETECTION MODEL TO MULTIPLE LOCATIONS OF AN IMAGE AND AT DIFFERENT SCALES. \n",
    "HIGH SCORING REGIONS ARE AFTERWARDS CONSIDERED DETECTIONS.\n",
    "\n",
    "YOLO USE A DIFFERENT APPROACH:\n",
    "WE APPLY A SINGLE NEURAL NETWORK TO THE FULL IMAGE.\n",
    "THE NETWORK DIVIDES THE IMAGE INTO REGIONS AND PREDICTS BOUNDING BOXES AND PROBABILITIES FOR EACH REGION. THOSE ROI ARE WEIGHTED BY THE PREDICTED PROBABILITIES.\n",
    "THE DIVISION IS HAPPENING IN THE NEURAL NETWORK. \n",
    "\n",
    "YOLO LOOKS AT THE WHOLE IMAGE AT TEST TIME SO ITS PREDICTIONS ARE INFORMED BY GLOBAL CONTEXT IN THE IMAGE.\n",
    "IT ALOS MAKES PREDICTIONS WITH A SINGLE NETWORK EVALUATION.\n",
    "R-CNN USE THOUSANDS OF NETWORKS FOR PREDICTIONS."
   ]
  },
  {
   "cell_type": "raw",
   "metadata": {},
   "source": [
    "DOWNLOAD THIS FILE\n",
    "url = https://drive.google.com/file/d/1yT2-zmNFymMgY42Z72LIuqMaiWvYEUQR/view?usp=sharing"
   ]
  },
  {
   "cell_type": "code",
   "execution_count": null,
   "metadata": {},
   "outputs": [],
   "source": []
  }
 ],
 "metadata": {
  "kernelspec": {
   "display_name": "Python 3",
   "language": "python",
   "name": "python3"
  },
  "language_info": {
   "codemirror_mode": {
    "name": "ipython",
    "version": 3
   },
   "file_extension": ".py",
   "mimetype": "text/x-python",
   "name": "python",
   "nbconvert_exporter": "python",
   "pygments_lexer": "ipython3",
   "version": "3.8.1"
  }
 },
 "nbformat": 4,
 "nbformat_minor": 4
}
