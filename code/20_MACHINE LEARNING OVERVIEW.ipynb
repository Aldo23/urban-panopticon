{
 "cells": [
  {
   "cell_type": "markdown",
   "metadata": {},
   "source": [
    "# MACHINE LEARNING"
   ]
  },
  {
   "cell_type": "raw",
   "metadata": {},
   "source": [
    "INTRODUCTION TO STATISTICAL LEARNING BY GARETH JAMES"
   ]
  },
  {
   "cell_type": "code",
   "execution_count": 19,
   "metadata": {},
   "outputs": [
    {
     "data": {
      "text/html": [
       "<img src=\"https://images-eu.ssl-images-amazon.com/images/I/41jy3mwLy9L.jpg\" width=\"300\" height=\"800\"/>"
      ],
      "text/plain": [
       "<IPython.core.display.Image object>"
      ]
     },
     "execution_count": 19,
     "metadata": {},
     "output_type": "execute_result"
    }
   ],
   "source": [
    "from IPython.display import Image\n",
    "from IPython.core.display import HTML \n",
    "\n",
    "Image(url= \"https://images-eu.ssl-images-amazon.com/images/I/41jy3mwLy9L.jpg\",width=300, height=800)"
   ]
  },
  {
   "cell_type": "raw",
   "metadata": {},
   "source": [
    "MACHINE LEARNING IS A METHOD OF DATA ANALYSIS THAT AUTOMATES ANALYTICAL MODEL BUILDING\n",
    "\n",
    "USING ALGORITHMS THAT ITERATIVELY LEARN FROM DATA, ML ALLOWS COMPUTERS TO FIND HIDDEN INSIGHT WITHOUT BEING EXPLICITLY PROGRAMMED WHERE TO LOOK"
   ]
  },
  {
   "cell_type": "raw",
   "metadata": {},
   "source": [
    "ML IS USED FOR \n",
    "FRAUD DETECTION\n",
    "WEB SEARCH\n",
    "REAL-TIME ADS\n",
    "CREDIT SCORING\n",
    "PREDICTION OF EQUIPMENT FAILURES\n",
    "NEW PRICING MODELS\n",
    "NETWORK INSTRUSION DETECTION\n",
    "RECOMMENDATION ENGINES\n",
    "CUSTOMER SEGMENTATION\n",
    "TEXT SENTIMENT ANALYSIS\n",
    "PREDICT CUSTOMER CHURN\n",
    "PATTERN ON IMAGE RECOGNITION\n",
    "EMAIL SPAM FILTERING \n",
    "FINANCIAL MODELLING"
   ]
  },
  {
   "cell_type": "raw",
   "metadata": {},
   "source": [
    "WE WILL WORK ON SUPERVISED LEARNING\n",
    "USING LABELED EXAMPLES SUCH AS AN INPUT WHERE THE DESIRED OUTPUT IS KNOW"
   ]
  },
  {
   "cell_type": "code",
   "execution_count": 20,
   "metadata": {},
   "outputs": [
    {
     "data": {
      "text/html": [
       "<img src=\"https://miro.medium.com/max/623/1*WKMyABC1aEn7ET6JVW5AaQ.png\" width=\"600\" height=\"800\"/>"
      ],
      "text/plain": [
       "<IPython.core.display.Image object>"
      ]
     },
     "execution_count": 20,
     "metadata": {},
     "output_type": "execute_result"
    }
   ],
   "source": [
    "Image(url= \"https://miro.medium.com/max/623/1*WKMyABC1aEn7ET6JVW5AaQ.png\",width=600, height=800)\n",
    "\n",
    "# best labeling tools \n",
    "url = 'https://medium.com/tektorch-ai/best-image-labeling-tools-for-computer-vision-393e256be0a0'"
   ]
  },
  {
   "cell_type": "raw",
   "metadata": {},
   "source": [
    "THE LEARNING ALGORITHM RECEIVES A SET OF INPUTS ALONG WITH CORRESPONDING OUTPUTS AND IT LEARNS BY COMPARING ITS ACTUAL OUTPUT WITH THE CORRECT ONE TO FIND ERRORS\n",
    "ACCORDING TO THIS LEARNING MODIFIES ITS MODEL."
   ]
  },
  {
   "cell_type": "code",
   "execution_count": 25,
   "metadata": {},
   "outputs": [
    {
     "data": {
      "text/html": [
       "<img src=\"data/ML-scheme.jpg\" width=\"700\" height=\"800\"/>"
      ],
      "text/plain": [
       "<IPython.core.display.Image object>"
      ]
     },
     "execution_count": 25,
     "metadata": {},
     "output_type": "execute_result"
    }
   ],
   "source": [
    "Image(url= \"data/ML-scheme.jpg\",width=700, height=800)"
   ]
  },
  {
   "cell_type": "code",
   "execution_count": null,
   "metadata": {},
   "outputs": [],
   "source": []
  },
  {
   "cell_type": "code",
   "execution_count": null,
   "metadata": {},
   "outputs": [],
   "source": []
  }
 ],
 "metadata": {
  "kernelspec": {
   "display_name": "Python 3",
   "language": "python",
   "name": "python3"
  },
  "language_info": {
   "codemirror_mode": {
    "name": "ipython",
    "version": 3
   },
   "file_extension": ".py",
   "mimetype": "text/x-python",
   "name": "python",
   "nbconvert_exporter": "python",
   "pygments_lexer": "ipython3",
   "version": "3.8.1"
  }
 },
 "nbformat": 4,
 "nbformat_minor": 4
}
